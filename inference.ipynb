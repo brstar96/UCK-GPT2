{
 "cells": [
  {
   "cell_type": "markdown",
   "metadata": {
    "id": "K2h005b5J4xe",
    "colab_type": "text"
   },
   "source": [
    "# Generation 테스트 코드"
   ]
  },
  {
   "cell_type": "code",
   "execution_count": null,
   "metadata": {
    "id": "2GUJy_faieBM",
    "colab_type": "code",
    "colab": {}
   },
   "outputs": [],
   "source": [
    "!pip install transformers==2.11.0\n",
    "!pip install sentencepiece"
   ]
  },
  {
   "cell_type": "markdown",
   "metadata": {
    "id": "gPk0bvhBKJBH",
    "colab_type": "text"
   },
   "source": [
    "## 체크포인트, sentencepice 모델 다운로드"
   ]
  },
  {
   "cell_type": "code",
   "execution_count": 3,
   "metadata": {
    "id": "-0oMPdBqFClZ",
    "colab_type": "code",
    "colab": {
     "base_uri": "https://localhost:8080/",
     "height": 170.0
    },
    "executionInfo": {
     "status": "ok",
     "timestamp": 1.595092089216E12,
     "user_tz": -540.0,
     "elapsed": 4688.0,
     "user": {
      "displayName": "양기창",
      "photoUrl": "",
      "userId": "18111041224098424528"
     }
    },
    "outputId": "5cc06fc1-76ac-4787-e883-02464eb392af"
   },
   "outputs": [
    {
     "name": "stderr",
     "output_type": "stream",
     "text": [
      "  % Total    % Received % Xferd  Average Speed   Time    Time     Time  Current\n",
      "                                 Dload  Upload   Total   Spent    Left  Speed\n",
      "\r  0     0    0     0    0     0      0      0 --:--:-- --:--:-- --:--:--     0\r100  3250    0  3250    0     0   9420      0 --:--:-- --:--:-- --:--:--  9420\n",
      "  % Total    % Received % Xferd  Average Speed   Time    Time     Time  Current\n",
      "                                 Dload  Upload   Total   Spent    Left  Speed\n",
      "\r  0     0    0     0    0     0      0      0 --:--:-- --:--:-- --:--:--     0\r100   408    0   408    0     0   1342      0 --:--:-- --:--:-- --:--:--  1342\n",
      "\r  0     0    0     0    0     0      0      0 --:--:-- --:--:-- --:--:--     0\r  0     0    0     0    0     0      0      0 --:--:-- --:--:-- --:--:--     0\n",
      "\r  0     0    0     0    0     0      0      0 --:--:-- --:--:-- --:--:--     0\n",
      "\r100 89.3M    0 89.3M    0     0  62.8M      0 --:--:--  0:00:01 --:--:-- 62.8M\r100  319M    0  319M    0     0   131M      0 --:--:--  0:00:02 --:--:--  229M\r100  485M    0  485M    0     0   155M      0 --:--:--  0:00:03 --:--:--  232M\n"
     ]
    }
   ],
   "source": [
    "from google.colab import drive\n",
    "drive.mount('/content/drive')"
   ]
  },
  {
   "cell_type": "code",
   "execution_count": 4,
   "metadata": {
    "id": "fJWeAhLF7rdh",
    "colab_type": "code",
    "colab": {
     "base_uri": "https://localhost:8080/",
     "height": 700.0
    },
    "executionInfo": {
     "status": "ok",
     "timestamp": 1.595092093212E12,
     "user_tz": -540.0,
     "elapsed": 3866.0,
     "user": {
      "displayName": "양기창",
      "photoUrl": "",
      "userId": "18111041224098424528"
     }
    },
    "outputId": "170b4859-cf37-44de-8f5c-6d7e57a43827"
   },
   "outputs": [
    {
     "name": "stderr",
     "output_type": "stream",
     "text": [
      "--2020-07-18 17:08:10--  https://docs.google.com/uc?export=download&id=19t6_Cn6qPM7HEq23zbeMQdeKtqGcEz73\n",
      "Resolving docs.google.com (docs.google.com)... 108.177.97.139, 108.177.97.101, 108.177.97.113, ...\n",
      "Connecting to docs.google.com (docs.google.com)|108.177.97.139|:443... connected.\n",
      "HTTP request sent, awaiting response... 302 Moved Temporarily\n",
      "Location: https://doc-00-04-docs.googleusercontent.com/docs/securesc/ha0ro937gcuc7l7deffksulhg5h7mbp1/260i35dccs9dl5e8vgej9u82446q8g6u/1595092050000/18111041224098424528/*/19t6_Cn6qPM7HEq23zbeMQdeKtqGcEz73?e=download [following]\n",
      "Warning: wildcards not supported in HTTP.\n",
      "--2020-07-18 17:08:11--  https://doc-00-04-docs.googleusercontent.com/docs/securesc/ha0ro937gcuc7l7deffksulhg5h7mbp1/260i35dccs9dl5e8vgej9u82446q8g6u/1595092050000/18111041224098424528/*/19t6_Cn6qPM7HEq23zbeMQdeKtqGcEz73?e=download\n",
      "Resolving doc-00-04-docs.googleusercontent.com (doc-00-04-docs.googleusercontent.com)... 108.177.97.132, 2404:6800:4008:c00::84\n",
      "Connecting to doc-00-04-docs.googleusercontent.com (doc-00-04-docs.googleusercontent.com)|108.177.97.132|:443... connected.\n",
      "HTTP request sent, awaiting response... 200 OK\n",
      "Length: 1170261 (1.1M) [application/octet-stream]\n",
      "Saving to: ‘kogpt2_news_wiki_ko_cased_818bfa919d.spiece’\n",
      "\n",
      "     0K .......... .......... .......... .......... ..........  4% 35.8M 0s\n",
      "    50K .......... .......... .......... .......... ..........  8% 44.4M 0s\n",
      "   100K .......... .......... .......... .......... .......... 13% 35.0M 0s\n",
      "   150K .......... .......... .......... .......... .......... 17% 33.3M 0s\n",
      "   200K .......... .......... .......... .......... .......... 21% 34.3M 0s\n",
      "   250K .......... .......... .......... .......... .......... 26% 49.0M 0s\n",
      "   300K .......... .......... .......... .......... .......... 30% 44.9M 0s\n",
      "   350K .......... .......... .......... .......... .......... 35% 41.4M 0s\n",
      "   400K .......... .......... .......... .......... .......... 39% 45.6M 0s\n",
      "   450K .......... .......... .......... .......... .......... 43% 40.9M 0s\n",
      "   500K .......... .......... .......... .......... .......... 48% 40.0M 0s\n",
      "   550K .......... .......... .......... .......... .......... 52% 42.2M 0s\n",
      "   600K .......... .......... .......... .......... .......... 56% 45.7M 0s\n",
      "   650K .......... .......... .......... .......... .......... 61% 41.5M 0s\n",
      "   700K .......... .......... .......... .......... .......... 65% 43.8M 0s\n",
      "   750K .......... .......... .......... .......... .......... 70% 55.5M 0s\n",
      "   800K .......... .......... .......... .......... .......... 74% 50.2M 0s\n",
      "   850K .......... .......... .......... .......... .......... 78% 59.1M 0s\n",
      "   900K .......... .......... .......... .......... .......... 83% 52.4M 0s\n",
      "   950K .......... .......... .......... .......... .......... 87% 52.7M 0s\n",
      "  1000K .......... .......... .......... .......... .......... 91% 83.8M 0s\n",
      "  1050K .......... .......... .......... .......... .......... 96%  169M 0s\n",
      "  1100K .......... .......... .......... .......... ..        100%  162M=0.02s\n",
      "\n",
      "2020-07-18 17:08:12 (47.1 MB/s) - ‘kogpt2_news_wiki_ko_cased_818bfa919d.spiece’ saved [1170261/1170261]\n",
      "\n"
     ]
    }
   ],
   "source": [
    "%%bash\n",
    "FILEID=19t6_Cn6qPM7HEq23zbeMQdeKtqGcEz73\n",
    "file=kogpt2_news_wiki_ko_cased_818bfa919d.spiece\n",
    "\n",
    "URL=\"https://drive.google.com/uc?export=download&id=$id\"\n",
    "\n",
    "wget --no-check-certificate \"https://docs.google.com/uc?export=download&id=$FILEID\" -O $file"
   ]
  },
  {
   "cell_type": "code",
   "execution_count": 5,
   "metadata": {
    "id": "0WPq2ptyF4PU",
    "colab_type": "code",
    "colab": {
     "base_uri": "https://localhost:8080/",
     "height": 136.0
    },
    "executionInfo": {
     "status": "ok",
     "timestamp": 1.595092097525E12,
     "user_tz": -540.0,
     "elapsed": 3888.0,
     "user": {
      "displayName": "양기창",
      "photoUrl": "",
      "userId": "18111041224098424528"
     }
    },
    "outputId": "d8009217-abab-4e23-9de5-7ae286febb44"
   },
   "outputs": [
    {
     "name": "stdout",
     "output_type": "stream",
     "text": [
      "total 498804\n",
      "drwxr-xr-x 1 root root      4096 Jul 18 17:08 .\n",
      "drwxr-xr-x 1 root root      4096 Jul 18 17:02 ..\n",
      "drwxr-xr-x 1 root root      4096 Jul 15 16:11 .config\n",
      "-rw-r--r-- 1 root root 509587453 Jul 18 17:08 every_gpt.pt\n",
      "-rw-r--r-- 1 root root   1170261 Jul 18 17:08 kogpt2_news_wiki_ko_cased_818bfa919d.spiece\n",
      "drwxr-xr-x 1 root root      4096 Jul 10 16:29 sample_data\n"
     ]
    }
   ],
   "source": [
    "!ls -al"
   ]
  },
  {
   "cell_type": "code",
   "execution_count": 6,
   "metadata": {
    "id": "4yja58XPjVro",
    "colab_type": "code",
    "colab": {},
    "executionInfo": {
     "status": "ok",
     "timestamp": 1.595092106213E12,
     "user_tz": -540.0,
     "elapsed": 6309.0,
     "user": {
      "displayName": "양기창",
      "photoUrl": "",
      "userId": "18111041224098424528"
     }
    }
   },
   "outputs": [],
   "source": [
    "import torch\n",
    "import sentencepiece\n",
    "import transformers\n",
    "from transformers import GPT2Config, GPT2LMHeadModel"
   ]
  },
  {
   "cell_type": "code",
   "execution_count": 7,
   "metadata": {
    "id": "hJhCwdeS0Hq0",
    "colab_type": "code",
    "colab": {},
    "executionInfo": {
     "status": "ok",
     "timestamp": 1.595092106215E12,
     "user_tz": -540.0,
     "elapsed": 4288.0,
     "user": {
      "displayName": "양기창",
      "photoUrl": "",
      "userId": "18111041224098424528"
     }
    }
   },
   "outputs": [],
   "source": [
    "model_file=\"/content/drive/My Drive/experiment/raw/every_gpt.pt\"\n",
    "tok_path = \"kogpt2_news_wiki_ko_cased_818bfa919d.spiece\"\n",
    "kogpt2_config = {\n",
    "    \"initializer_range\": 0.02,\n",
    "    \"layer_norm_epsilon\": 1e-05,\n",
    "    \"n_ctx\": 1024,\n",
    "    \"n_embd\": 768,\n",
    "    \"n_head\": 12,\n",
    "    \"n_layer\": 12,\n",
    "    \"n_positions\": 1024,\n",
    "    \"vocab_size\": 50000,\n",
    "    \"activation_function\": \"gelu\"\n",
    "}"
   ]
  },
  {
   "cell_type": "code",
   "execution_count": 8,
   "metadata": {
    "id": "3vbOPKB3tnu6",
    "colab_type": "code",
    "colab": {
     "base_uri": "https://localhost:8080/",
     "height": 34.0
    },
    "executionInfo": {
     "status": "ok",
     "timestamp": 1.595092108805E12,
     "user_tz": -540.0,
     "elapsed": 1134.0,
     "user": {
      "displayName": "양기창",
      "photoUrl": "",
      "userId": "18111041224098424528"
     }
    },
    "outputId": "0c104179-5659-4f3c-baa9-bbdc18819dd4"
   },
   "outputs": [
    {
     "data": {
      "text/plain": [
       "True"
      ]
     },
     "execution_count": 8,
     "metadata": {
      "tags": []
     },
     "output_type": "execute_result"
    }
   ],
   "source": [
    "tokenizer = sentencepiece.SentencePieceProcessor()\n",
    "tokenizer.load(tok_path)"
   ]
  },
  {
   "cell_type": "code",
   "execution_count": 9,
   "metadata": {
    "id": "GLLeykROuZqI",
    "colab_type": "code",
    "colab": {},
    "executionInfo": {
     "status": "ok",
     "timestamp": 1.595092132315E12,
     "user_tz": -540.0,
     "elapsed": 22863.0,
     "user": {
      "displayName": "양기창",
      "photoUrl": "",
      "userId": "18111041224098424528"
     }
    }
   },
   "outputs": [],
   "source": [
    "model = GPT2LMHeadModel.from_pretrained(pretrained_model_name_or_path=None,\n",
    "                                    config=GPT2Config.from_dict(kogpt2_config),\n",
    "                                    state_dict=torch.load(model_file))\n",
    "model = model.cpu()"
   ]
  },
  {
   "cell_type": "markdown",
   "metadata": {
    "id": "ZvoEijv2KRXJ",
    "colab_type": "text"
   },
   "source": [
    "## Generation 방식 설정\n",
    "* from [KoGPT2-FineTuning](https://github.com/gyunggyung/KoGPT2-FineTuning/tree/master/kogpt2/model)"
   ]
  },
  {
   "cell_type": "code",
   "execution_count": 44,
   "metadata": {
    "id": "vNzDiDPU5CBN",
    "colab_type": "code",
    "colab": {},
    "executionInfo": {
     "status": "ok",
     "timestamp": 1.595093343164E12,
     "user_tz": -540.0,
     "elapsed": 992.0,
     "user": {
      "displayName": "양기창",
      "photoUrl": "",
      "userId": "18111041224098424528"
     }
    }
   },
   "outputs": [],
   "source": [
    "def top_k_logits(logits, k):\n",
    "    if k == 0:\n",
    "        return logits\n",
    "    values, _ = torch.topk(logits, k)\n",
    "    min_values = values[:, -1]\n",
    "    return torch.where(logits < min_values, torch.ones_like(logits, dtype=logits.dtype) * -1e10, logits)\n",
    "\n",
    "def top_p_logits(logits, top_p=0.0, filter_value=-float('Inf')):\n",
    "    \"\"\"Nucleus sampling\"\"\"\n",
    "    if top_p > 0.0:\n",
    "        sorted_logits, sorted_indices = torch.sort(logits, descending=True)\n",
    "        cumulative_probs = torch.cumsum(F.softmax(sorted_logits, dim=-1), dim=-1)\n",
    "\n",
    "        # Remove tokens with cumulative probability above the threshold\n",
    "        sorted_indices_to_remove = cumulative_probs >= top_p\n",
    "        # Shift the indices to the right to keep also the first token above the threshold\n",
    "        sorted_indices_to_remove[..., 1:] = sorted_indices_to_remove[..., :-1].clone()\n",
    "        sorted_indices_to_remove[..., 0] = 0\n",
    "\n",
    "        indices_to_remove = sorted_indices[sorted_indices_to_remove]\n",
    "        logits[:, indices_to_remove] = filter_value\n",
    "    return logits"
   ]
  },
  {
   "cell_type": "code",
   "execution_count": 76,
   "metadata": {
    "id": "iafyBWMTuFyF",
    "colab_type": "code",
    "cellView": "form",
    "colab": {},
    "executionInfo": {
     "status": "ok",
     "timestamp": 1.595093593829E12,
     "user_tz": -540.0,
     "elapsed": 1503.0,
     "user": {
      "displayName": "양기창",
      "photoUrl": "",
      "userId": "18111041224098424528"
     }
    }
   },
   "outputs": [],
   "source": [
    "from collections import OrderedDict\n",
    "\n",
    "text = \"\\uCEF4\\uD559\" #@param {type:\"string\"}\n",
    "category = \"\\uC22D\\uC2E4\\uB300 \\uC5D0\\uD0C0\" #@param [\"\\uC22D\\uC2E4\\uB300 \\uC5D0\\uD0C0\", \"\\uBAA8\\uB450\\uC758 \\uC5F0\\uC560\", \"\\uB300\\uD559\\uC0DD \\uC7A1\\uB2F4\\uBC29\"]\n",
    "\n",
    "category_map = {\n",
    "    \"모두의 연애\": \"<unused3>\",\n",
    "    \"숭실대 에타\": \"<unused5>\",\n",
    "    \"대학생 잡담방\": \"<unused4>\"\n",
    "}\n",
    "\n",
    "special_token_map = OrderedDict()\n",
    "\n",
    "ids = tokenizer.encode_as_ids(text)\n",
    "encoded = tokenizer.encode_as_pieces(text)\n",
    "\n",
    "category_id = tokenizer.piece_to_id(category_map[category])\n",
    "ids = [category_id] + ids"
   ]
  },
  {
   "cell_type": "code",
   "execution_count": 77,
   "metadata": {
    "id": "t-w-C2RFuYH7",
    "colab_type": "code",
    "colab": {
     "base_uri": "https://localhost:8080/",
     "height": 51.0
    },
    "executionInfo": {
     "status": "ok",
     "timestamp": 1.595093595598E12,
     "user_tz": -540.0,
     "elapsed": 641.0,
     "user": {
      "displayName": "양기창",
      "photoUrl": "",
      "userId": "18111041224098424528"
     }
    },
    "outputId": "a05e3c5a-e3ff-4931-fb2f-ab62178313f9"
   },
   "outputs": [
    {
     "name": "stdout",
     "output_type": "stream",
     "text": [
      "[11, 2111, 47564]\n",
      "['▁컴', '학']\n"
     ]
    }
   ],
   "source": [
    "print(ids)\n",
    "print(encoded)"
   ]
  },
  {
   "cell_type": "code",
   "execution_count": 78,
   "metadata": {
    "id": "wR3yBtvU09op",
    "colab_type": "code",
    "colab": {
     "base_uri": "https://localhost:8080/",
     "height": 35.0
    },
    "executionInfo": {
     "status": "ok",
     "timestamp": 1.595093599814E12,
     "user_tz": -540.0,
     "elapsed": 3548.0,
     "user": {
      "displayName": "양기창",
      "photoUrl": "",
      "userId": "18111041224098424528"
     }
    },
    "outputId": "6cb8c727-26f4-4046-e80f-9d414c75f6dc"
   },
   "outputs": [
    {
     "data": {
      "text/plain": [
       "'<unused5> 컴학 컴퓨터수학2 계절학기 들으면 계절학기 때 들을 수 있나요?'"
      ]
     },
     "execution_count": 78,
     "metadata": {
      "tags": []
     },
     "output_type": "execute_result"
    }
   ],
   "source": [
    "from torch.nn import functional as F\n",
    "duplicate_count = 0\n",
    "duplicate_threshold = 10\n",
    "for i in range(0, 512):\n",
    "  input_ids = torch.tensor(ids).unsqueeze(0)\n",
    "  pred = model(input_ids)[0]\n",
    "  logits = pred[:, -1, :]\n",
    "  logits = top_p_logits(logits, 0.3)\n",
    "  log_probs = F.softmax(logits, dim=-1)\n",
    "  prev = torch.multinomial(log_probs, num_samples=1)\n",
    "  gen = prev[0].tolist()\n",
    "  if gen[0] == tokenizer.eos_id():\n",
    "      break\n",
    "  duplicate_count = duplicate_count + 1 if ids[-1] == gen[0] else 0\n",
    "  if duplicate_count > duplicate_threshold:\n",
    "    break\n",
    "  ids += gen\n",
    "tokenizer.decode_ids(ids)"
   ]
  },
  {
   "cell_type": "code",
   "execution_count": 63,
   "metadata": {
    "id": "lU4oV7r31xxD",
    "colab_type": "code",
    "colab": {
     "base_uri": "https://localhost:8080/",
     "height": 85.0
    },
    "executionInfo": {
     "status": "ok",
     "timestamp": 1.595093467883E12,
     "user_tz": -540.0,
     "elapsed": 1256.0,
     "user": {
      "displayName": "양기창",
      "photoUrl": "",
      "userId": "18111041224098424528"
     }
    },
    "outputId": "9d9a2d17-d884-4bee-fdeb-e96628d78323"
   },
   "outputs": [
    {
     "name": "stdout",
     "output_type": "stream",
     "text": [
      "| Category : 숭실대 에타\n",
      "| Conditioned : 김\n",
      "| Generated : \n",
      "김삼환 이사장 퇴진요구서 냈는데 읽어보니까 총학이 서명하면 끝인거같은데 어떻게 생각해?\n"
     ]
    }
   ],
   "source": [
    "print('| Category : {}'.format(category))\n",
    "print('| Conditioned : {}'.format(text))\n",
    "print('| Generated : \\n{}'.format(tokenizer.decode_ids(ids[1:])).replace('<unused2>', '\\n').replace('<unused0>', 'https://...'))"
   ]
  },
  {
   "cell_type": "code",
   "execution_count": null,
   "metadata": {
    "id": "1490ZcKhJhQq",
    "colab_type": "code",
    "colab": {}
   },
   "outputs": [],
   "source": [
    ""
   ]
  }
 ],
 "metadata": {
  "colab": {
   "name": "에브리타임inference.ipynb",
   "provenance": [],
   "authorship_tag": "ABX9TyM44gOiNrQm6vmCiMC0Uvnr"
  },
  "kernelspec": {
   "name": "python3",
   "display_name": "Python 3"
  },
  "accelerator": "GPU"
 },
 "nbformat": 4,
 "nbformat_minor": 0
}
